{
 "cells": [
  {
   "cell_type": "code",
   "execution_count": null,
   "id": "1695fb29-fb9d-42db-96be-955248bb54dd",
   "metadata": {},
   "outputs": [],
   "source": [
    "import os\n",
    "os.environ[\"HF_HOME\"] = \"/root/autodl-tmp/\"\n",
    "# export HF_HOME=\"/root/autodl-tmp/\""
   ]
  },
  {
   "cell_type": "code",
   "execution_count": null,
   "id": "fe28d251-4062-49d8-a781-beb496e24808",
   "metadata": {},
   "outputs": [],
   "source": [
    "# https://github.com/OpenBMB/MiniCPM-V/blob/main/README_zh.md"
   ]
  },
  {
   "cell_type": "code",
   "execution_count": null,
   "id": "5bbbc523-afe0-466b-a061-948dbd5dcb04",
   "metadata": {},
   "outputs": [],
   "source": [
    "!pip install flash_attn"
   ]
  },
  {
   "cell_type": "code",
   "execution_count": null,
   "id": "e51f95d5-bf3b-4e11-9c5f-02144442f7fe",
   "metadata": {},
   "outputs": [],
   "source": [
    "import torch\n",
    "from PIL import Image\n",
    "from transformers import AutoModel, AutoTokenizer\n"
   ]
  },
  {
   "cell_type": "code",
   "execution_count": null,
   "id": "0279e19a-b949-4816-9c01-c5b9886f6ebc",
   "metadata": {},
   "outputs": [],
   "source": [
    "! export ALL_PROXY=socks5://127.0.0.1:7891\n",
    "! export http_proxy=http://127.0.0.1:7890\n",
    "! export https_proxy=http://127.0.0.1:7890\n",
    "! export HTTP_PROXY=http://127.0.0.1:7890\n",
    "! export HTTPS_PROXY=http://127.0.0.1:7890\n",
    "os.environ['http_proxy']=\"http://127.0.0.1:7890\"\n",
    "os.environ['https_proxy']=\"http://127.0.0.1:7890\"\n",
    "os.environ['HTTP_PROXY']=\"http://127.0.0.1:7890\"\n",
    "os.environ['HTTPS_PROXY']=\"http://127.0.0.1:7890\""
   ]
  },
  {
   "cell_type": "code",
   "execution_count": null,
   "id": "f44fd938-952c-4211-b086-00c526a730b6",
   "metadata": {},
   "outputs": [],
   "source": [
    "model = AutoModel.from_pretrained('openbmb/MiniCPM-V-2_6', trust_remote_code=True,\n",
    "                                    attn_implementation='sdpa', torch_dtype=torch.bfloat16) # sdpa or flash_attention_2, no eager\n",
    "model = model.eval().cuda()\n",
    "tokenizer = AutoTokenizer.from_pretrained('openbmb/MiniCPM-V-2_6', trust_remote_code=True)\n"
   ]
  },
  {
   "cell_type": "code",
   "execution_count": null,
   "id": "2cac8ec5-0f4e-42bf-b16c-6c4916e18e2d",
   "metadata": {},
   "outputs": [],
   "source": []
  },
  {
   "cell_type": "code",
   "execution_count": null,
   "id": "e69d380c-de02-4084-8cbd-0ec08a37926c",
   "metadata": {},
   "outputs": [],
   "source": [
    "!pip install -U bitsandbytes"
   ]
  },
  {
   "cell_type": "code",
   "execution_count": null,
   "id": "b3de0c87-f7bc-475b-a85c-49c0bb28e4bb",
   "metadata": {},
   "outputs": [],
   "source": [
    "model = AutoModel.from_pretrained('openbmb/MiniCPM-V-2_6-int4', trust_remote_code=True,\n",
    "                                    attn_implementation='sdpa', torch_dtype=torch.bfloat16) # sdpa or flash_attention_2, no eager\n",
    "model = model.eval()\n",
    "tokenizer = AutoTokenizer.from_pretrained('openbmb/MiniCPM-V-2_6-int4', trust_remote_code=True)"
   ]
  },
  {
   "cell_type": "code",
   "execution_count": 40,
   "id": "b5dbda91-77b3-4acf-bf6a-1c0ea3d84b73",
   "metadata": {},
   "outputs": [],
   "source": [
    "image_path = \"./HK.XG.04.JPG\""
   ]
  },
  {
   "cell_type": "code",
   "execution_count": 41,
   "id": "fbc131ea-b1c4-4548-8e49-18df3a0555d8",
   "metadata": {},
   "outputs": [],
   "source": [
    "question = 'What is the item brought? and total paid amount, and the item is food?  please reply in Chinese and also output in json format'"
   ]
  },
  {
   "cell_type": "code",
   "execution_count": 48,
   "id": "ae2a656d-6b6e-4444-8af2-028b80524b16",
   "metadata": {},
   "outputs": [
    {
     "name": "stdout",
     "output_type": "stream",
     "text": [
      "{\n",
      "  \"item_brought\": \"HONDA海膽餅\",\n",
      "  \"total_paid_amount\": \"$34.4 HKD\",\n",
      "  \"is_food\": true\n",
      "}\n",
      "\n",
      "这段文字说明了购买的物品是食品，并且总共支付了$34.4港币。"
     ]
    }
   ],
   "source": [
    "image = Image.open(image_path).convert('RGB')\n",
    "\n",
    "msgs = [{'role': 'user', 'content': [image, question]}]\n",
    "\n",
    "\"\"\"\n",
    "res = model.chat(\n",
    "    image=None,\n",
    "    msgs=msgs,\n",
    "    tokenizer=tokenizer\n",
    ")\n",
    "print(res)\n",
    "\"\"\"\n",
    "\n",
    "## if you want to use streaming, please make sure sampling=True and stream=True\n",
    "## the model.chat will return a generator\n",
    "res = model.chat(\n",
    "    image=None,\n",
    "    msgs=msgs,\n",
    "    tokenizer=tokenizer,\n",
    "    sampling=True,\n",
    "    temperature=0.9,\n",
    "    stream=True\n",
    ")\n",
    "\n",
    "generated_text = \"\"\n",
    "for new_text in res:\n",
    "    generated_text += new_text\n",
    "    print(new_text, flush=True, end='')"
   ]
  },
  {
   "cell_type": "code",
   "execution_count": 47,
   "id": "14aacddf-4ee2-4ea4-8e82-d699eb4285c6",
   "metadata": {},
   "outputs": [],
   "source": [
    "#print(generated_text)"
   ]
  },
  {
   "cell_type": "code",
   "execution_count": null,
   "id": "e2823d3e-c9e5-4839-ac67-f65ab02c841f",
   "metadata": {},
   "outputs": [],
   "source": [
    "\"\"\"\n",
    "  请您描述这个图片, 店铺名称是什么？买了什么东西， 数量是多少， 商品总金额是多少？一共支付了多少？\n",
    "  What is the item brought? and total paid amount, and the item is food?  please reply in Chinese and also output in json format\n",
    "\"\"\""
   ]
  }
 ],
 "metadata": {
  "kernelspec": {
   "display_name": "Python 3 (ipykernel)",
   "language": "python",
   "name": "python3"
  },
  "language_info": {
   "codemirror_mode": {
    "name": "ipython",
    "version": 3
   },
   "file_extension": ".py",
   "mimetype": "text/x-python",
   "name": "python",
   "nbconvert_exporter": "python",
   "pygments_lexer": "ipython3",
   "version": "3.10.8"
  }
 },
 "nbformat": 4,
 "nbformat_minor": 5
}
